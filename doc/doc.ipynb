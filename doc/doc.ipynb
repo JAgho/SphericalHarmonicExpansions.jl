{
 "cells": [
  {
   "cell_type": "markdown",
   "metadata": {},
   "source": [
    "# SphericalHarmonics.jl"
   ]
  },
  {
   "cell_type": "markdown",
   "metadata": {},
   "source": [
    "Purpose of this package is to provide methods to numerically handle real spherical harmonics expansion in Cartesian coordinates."
   ]
  },
  {
   "cell_type": "markdown",
   "metadata": {},
   "source": [
    "## Mathematical Background\n",
    "\n",
    "### Definition of the Spherical Harmonics\n",
    "\n",
    "One way to define real spherical harmonics is the follwoing \n",
    "$$\n",
    "Y_{l,m}(\\vartheta,\\varphi) = \n",
    "\\begin{cases}\n",
    "\\sqrt{2}K_{l,m} \\cos(m\\varphi)P_{l,m}(\\cos\\vartheta) & m > 0\\\\\n",
    "\\sqrt{2}K_{l,m} \\sin(-m\\varphi)P_{l,-m}(\\cos\\vartheta) & m < 0\\\\\n",
    "K_{l,m}P_{l,m}(\\cos \\vartheta) & m = 0\n",
    "\\end{cases}\n",
    "$$\n",
    "for $l\\in\\mathbb{N}_0$ and $m\\in [-l,l]$. Note that you will also find a convention, where the $Y_{l,m}$ are scaled by $(-1)^m$ in various literature.\n",
    "\n",
    "The normalization factor is set to\n",
    "$$\n",
    "K_{l,m} = \\sqrt{\\frac{(2l+1)(l-|m|)!}{4\\pi(l+|m|)!}}.\n",
    "$$\n",
    "The associated Legendre polynomials are given by\n",
    "$$\n",
    "P_{l,m}(x) = (1-x^2)^{\\frac{m}{2}}\\frac{d^m}{dx^m}\\left(P_l(x)\\right),\n",
    "$$\n",
    "which can be derived from the Legendre polynomials\n",
    "$$\n",
    "P_l(x) = \\frac{1}{2^ll!}\\frac{d^l}{dx^l}\\left[(x^2-1)^l\\right].\n",
    "$$"
   ]
  },
  {
   "cell_type": "markdown",
   "metadata": {},
   "source": [
    "### Expression of a Polynomial in Cartesian Coordinates \n",
    "\n",
    "Cartesian coordinates may be retrieved from the spherical coordinates by\n",
    "$$\n",
    "\\begin{align*}\n",
    "x &= r\\sin(\\vartheta)\\cos(\\varphi)\\\\\n",
    "y &= r\\sin(\\vartheta)\\sin(\\varphi)\\\\\n",
    "z &= r\\cos(\\vartheta).\n",
    "\\end{align*}\n",
    "$$\n",
    "The transformation to the unit sphere by\n",
    "$$\n",
    "\\begin{align*}\n",
    "\\hat{x} &= \\frac{x}{r} = \\sin(\\vartheta)\\cos(\\varphi)\\\\\n",
    "\\hat{y} &= \\frac{y}{r} = \\sin(\\vartheta)\\sin(\\varphi)\\\\\n",
    "\\hat{z} &= \\frac{z}{r} = \\cos(\\vartheta).\n",
    "\\end{align*}\n",
    "$$\n",
    "\n",
    "By substitution of the above transformations the associated Legendre polynomials can be expressed by\n",
    "$$\n",
    "\\begin{align*}\n",
    "P_l^m(\\hat{z}) &= P_l^m(\\cos \\vartheta)\\\\\n",
    "&= (1-(\\cos \\vartheta)^2)^{\\frac{m}{2}}\\frac{d^m}{d(\\cos \\vartheta)^m}\\left(P_l(\\cos \\vartheta)\\right)\\\\\n",
    "&= (\\sin\\vartheta)^m\\frac{d^m}{d\\hat{z}^m}\\left(P_l(\\hat{z})\\right).\n",
    "\\end{align*}\n",
    "$$\n",
    "In the spherical harmonic function the factor $(\\sin\\vartheta)^m$ of the associated Legendre polynomial can be added to the factor $\\cos(m\\varphi)$ respectively $\\sin(m\\varphi)$. With trigonometric addition theorems this can be rearranged to a sum which only contains Cartesian coordinates $\\hat{x}$ and $\\hat{y}$. Thus a spherical harmonic polynomial in Cartesian coordinates normalized on the unit sphere results."
   ]
  },
  {
   "cell_type": "markdown",
   "metadata": {},
   "source": [
    "### Spherical Harmonics Expansion\n",
    "Every function in $L^2(\\mathbb{S})$ can be represented by a series expansion with spherical harmonics since they form an orthonormal basis of square-integrable functions on the unit sphere.\n",
    "\n",
    "Thus a function $f\\in L^2(\\mathbb{S})$ can be described in spherical coordinates by\n",
    "$$\n",
    "f(r,\\vartheta,\\varphi) = \\sum_{l=0}^{\\infty} \\sum_{m=-l}^l c_{l,m} r^l Y_{l,m}(\\vartheta,\\varphi)\n",
    "$$\n",
    "while this function in Cartesian coordinates has the representation\n",
    "$$\n",
    "f(\\hat{x},\\hat{y},\\hat{z}) = \\sum_{l=0}^{\\infty}\\sum_{m=-l}^l c_{l,m} r^l Y_{l,m}(\\hat{x},\\hat{y},\\hat{z})\n",
    "$$\n",
    "Using arbitrary Cartesian coordinates this can be transformed into\n",
    "$$\n",
    "f(x,y,z) = \\sum_{l=0}^{\\infty}\\sum_{m=-l}^l c_{l,m} Y_{l,m}(x,y,z)\n",
    "$$\n",
    "since the radius will be canceled out."
   ]
  },
  {
   "cell_type": "markdown",
   "metadata": {},
   "source": [
    "## Usage\n",
    "To generate a multivariate polynomial representation of a spherical harmonic run the following\n",
    "```julia\n",
    "julia> using SphericalHarmonics\n",
    "julia> @polyvar x̂ ŷ ẑ;\n",
    "julia> l = 7; m = -3;\n",
    "julia> p = ylm(l,m,x̂,ŷ,ẑ)\n",
    "67.12088262692416x̂^2ŷ*ẑ^4 + -22.37362754230805ŷ^3ẑ^4 + -30.978868904734227x̂^2ŷ*ẑ^2 + 10.326289634911408ŷ^3ẑ^2 + 1.4081304047606467x̂^2ŷ + -0.46937680158688216ŷ^3\n",
    "```\n",
    "This should return a `MultivariatePolynomials.Polynomial` in the variables `x̂`, `ŷ`, and `ẑ` on the unit sphere."
   ]
  },
  {
   "cell_type": "markdown",
   "metadata": {},
   "source": [
    "You can use the real spherical harmonics expansion to express functions as a finite series of spherical harmonics in Cartesian coordinates\n",
    "$$\n",
    "f(x,y,z) = \\sum_{l=0}^{L}\\sum_{m=-l}^l c_{l,m} Y_{l,m}(x,y,z)\n",
    "$$\n",
    "```julia\n",
    "julia> @polyvar x y z\n",
    "julia> L = 2\n",
    "julia> c = SphericalHarmonicCoefficients(L)\n",
    "julia> c[0,0] = 42.0 #c₀₀\n",
    "julia> c[2,-1] = -1.0 #c₂₋₁\n",
    "julia> c[2,1] = 2.0 #c₂₁\n",
    "julia> f = sphericalHarmonicsExpansion(c,x,y,z)\n",
    "2.1850968611841584x*z + -1.0925484305920792y*z + 11.847981254502882\n",
    "```\n",
    "or\n",
    "```julia\n",
    "julia> C = [42.0,0,0,0,0,-1,0,2,0]\n",
    "julia> c = SphericalHarmonicCoefficients(C)\n",
    "julia> f = sphericalHarmonicsExpansion(c,x,y,z)\n",
    "2.1850968611841584x*z + -1.0925484305920792y*z + 11.847981254502882\n",
    "```\n",
    "Note that `SphericalHarmonicCoefficients(C)` will throw an error if `length(C)` is not $(L+1)^2$ for some $L\\in\\mathbb{N}$."
   ]
  },
  {
   "cell_type": "markdown",
   "metadata": {},
   "source": [
    "## Further Reading\n",
    "\n",
    "For more informations on the `MultivariatePolynomials` package please visit the project page on  [github](https://github.com/blegat/MultivariatePolynomials.jl)."
   ]
  }
 ],
 "metadata": {
  "kernelspec": {
   "display_name": "Julia 0.6.0",
   "language": "julia",
   "name": "julia-0.6"
  },
  "language_info": {
   "file_extension": ".jl",
   "mimetype": "application/julia",
   "name": "julia",
   "version": "0.6.1"
  }
 },
 "nbformat": 4,
 "nbformat_minor": 2
}
