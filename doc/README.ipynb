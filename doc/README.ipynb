{
 "cells": [
  {
   "cell_type": "markdown",
   "metadata": {},
   "source": [
    "The purpose of this method is a representation of a function by a real spherical harmonics expansion in Cartesian coordinates. First of all the mathematical background is discussed and afterwards it is shown how to call the related functions."
   ]
  },
  {
   "cell_type": "markdown",
   "metadata": {},
   "source": [
    "### Mathematical Background\n",
    "Real spherical harmonics are defined by \n",
    "$$\n",
    "Y_{l,m}(\\vartheta,\\varphi) = \n",
    "\\begin{cases}\n",
    "\\sqrt{2}K_{l,m} \\cos(m\\varphi)P_{l,m}(\\cos\\vartheta) & m > 0\\\\\n",
    "\\sqrt{2}K_{l,m} \\sin(-m\\varphi)P_{l,-m}(\\cos\\vartheta) & m < 0\\\\\n",
    "K_{l,m}P_{l,m}(\\cos \\vartheta) & m = 0\n",
    "\\end{cases}\n",
    "$$\n",
    "for $l\\in\\mathbb{N}_0$ and $m\\in [-l,l]$ . The normalization factor is set to\n",
    "$$\n",
    "K_{l,m} = \\sqrt{\\frac{(2l+1)(l-|m|)!}{4\\pi(l+|m|)!}}\n",
    "$$\n",
    "and the associated Legendre polynomials are\n",
    "$$\n",
    "P_{l,m}(x) = (1-x^2)^{\\frac{m}{2}}\\frac{d^m}{dx^m}\\left(P_l(x)\\right).\n",
    "$$\n",
    "The associated Legendre polynomials depend on the Legendre polynomials\n",
    "$$\n",
    "P_l(x) = \\frac{1}{2^ll!}\\frac{d^l}{dx^l}\\left[(x^2-1)^l\\right].\n",
    "$$"
   ]
  },
  {
   "cell_type": "markdown",
   "metadata": {},
   "source": [
    "For the representation of spherical harmonics in Cartesian coordinates the coordinate transformation is done by\n",
    "$$\n",
    "\\begin{align*}\n",
    "x &= r\\sin(ϑ)\\cos(φ)\\\\\n",
    "y &= r\\sin(ϑ)\\sin(φ)\\\\\n",
    "z &= r\\cos(ϑ).\n",
    "\\end{align*}\n",
    "$$\n",
    "In the method this transformation is normalized on the unit sphere, i.e.\n",
    "$$\n",
    "\\begin{align*}\n",
    "\\hat{x} &= \\frac{x}{r} = \\sin(ϑ)\\cos(φ)\\\\\n",
    "\\hat{y} &= \\frac{y}{r} = \\sin(ϑ)\\sin(φ)\\\\\n",
    "\\hat{z} &= \\frac{z}{r} = \\cos(ϑ)\n",
    "\\end{align*}\n",
    "$$\n",
    "is used. This has to be included in the call of the corresponding method of the calculation of a spherical harmonic by scaling the input values by $r$.\n",
    "\n",
    "By substitution using this transformation the associated Legendre polynomials can be expressed by\n",
    "$$\n",
    "\\begin{align*}\n",
    "P_l^m(\\hat{z}) &= P_l^m(\\cos \\vartheta)\\\\\n",
    "&= (1-(\\cos \\vartheta)^2)^{\\frac{m}{2}}\\frac{d^m}{d(\\cos \\vartheta)^m}\\left(P_l(\\cos \\vartheta)\\right)\\\\\n",
    "&= (\\sin\\vartheta)^m\\frac{d^m}{d\\hat{z}^m}\\left(P_l(\\hat{z})\\right).\n",
    "\\end{align*}\n",
    "$$\n",
    "In the spherical harmonic function the factor $(\\sin\\vartheta)^m$ of the associated Legendre polynomial can be added to the factor $\\cos(m\\varphi)$ respectively $\\sin(m\\varphi)$. With trigonometric addition theorems this can be rearranged to a sum which only contains Cartesian coordinates $\\hat{x}$ and $\\hat{y}$. Thus a spherical harmonic polynomial in Cartesian coordinates normalized on the unit sphere results."
   ]
  },
  {
   "cell_type": "markdown",
   "metadata": {},
   "source": [
    "##### Spherical Harmonics Expansion\n",
    "Every function in $L^2(\\mathbb{S})$ can be represented by a series expansion with spherical harmonics since they form an orthonormal basis of square-integrable functions on the unit sphere.\n",
    "\n",
    "Thus a function $f\\in L^2(\\mathbb{S})$ can be described in spherical coordinates by\n",
    "$$\n",
    "f(r,\\vartheta,\\varphi) = \\sum_{l=0}^{\\infty} \\sum_{m=-l}^l c_{l,m} r^l Y_{l,m}(\\vartheta,\\varphi)\n",
    "$$\n",
    "while this function in Cartesian coordinates has the representation\n",
    "$$\n",
    "f(\\hat{x},\\hat{y},\\hat{z}) = \\sum_{l=0}^{\\infty}\\sum_{m=-l}^l c_{l,m} r^l Y_{l,m}(\\hat{x},\\hat{y},\\hat{z})\n",
    "$$\n",
    "Using arbitrary Cartesian coordinates this can be transformed into\n",
    "$$\n",
    "f(x,y,z) = \\sum_{l=0}^{\\infty}\\sum_{m=-l}^l c_{l,m} Y_{l,m}(x,y,z)\n",
    "$$\n",
    "since the radius will be canceled out."
   ]
  },
  {
   "cell_type": "markdown",
   "metadata": {},
   "source": [
    "### Description\n",
    "The call of a spherical harmonic polynomial is illustrated in the following example.\n",
    "```julia\n",
    "julia> using SphericalHarmonics\n",
    "julia> l = 7; m = -3;\n",
    "julia> ylm(l,m,x,y,z)\n",
    "```\n",
    "\n",
    "The value `l` defines the degree and `m` defines the order of the spherical harmonic while `x`, `y` and `z` represent the Cartesian coordinates. You have to choose $m \\in [-l,l]$ otherwise the spherical harmonic is not defined. "
   ]
  },
  {
   "cell_type": "markdown",
   "metadata": {},
   "source": [
    "You can use the real spherical harmonics expansion of a function $f\\in L^2(\\mathbb{S})$ by calling the function\n",
    "```julia\n",
    "julia> f = sphericalHarmonicsExpansion(Clm,x,y,z)\n",
    "```\n",
    "\n",
    "The array `Clm` contains the coeffizients of the expansion, while the input `x`, `y` and `z` are the Cartesian coordinates. You have to take care on the length of the array `Clm` since it has to contain $(L+1)^2, L\\in\\mathbb{N},$ values otherwise you will get an error. $L$ describes the maximum degree of the spherical harmonics which are used to represent the function."
   ]
  },
  {
   "cell_type": "markdown",
   "metadata": {},
   "source": [
    "The received functions are polynomials of the type `MultivariatePolynomials.Polynomial{true,Float64}`. For further handling have a look at the package [MultivariatePolynomials](https://github.com/blegat/MultivariatePolynomials.jl)."
   ]
  }
 ],
 "metadata": {
  "kernelspec": {
   "display_name": "Julia 0.6.0",
   "language": "julia",
   "name": "julia-0.6"
  },
  "language_info": {
   "file_extension": ".jl",
   "mimetype": "application/julia",
   "name": "julia",
   "version": "0.6.0"
  }
 },
 "nbformat": 4,
 "nbformat_minor": 2
}
